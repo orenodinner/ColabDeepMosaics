{
  "nbformat": 4,
  "nbformat_minor": 0,
  "metadata": {
    "colab": {
      "name": "Colab-DeepMosaics.ipynb",
      "provenance": [],
      "private_outputs": true,
      "collapsed_sections": [],
      "toc_visible": true
    },
    "kernelspec": {
      "name": "python3",
      "display_name": "Python 3"
    },
    "accelerator": "GPU"
  },
  "cells": [
    {
      "cell_type": "markdown",
      "metadata": {
        "id": "Iu_qXI_FtBBY",
        "colab_type": "text"
      },
      "source": [
        "# Colab-DeepMosaics\n",
        "\n",
        "Original Github: [HypoX64/DeepMosaics](https://github.com/HypoX64/DeepMosaics)\n",
        "\n",
        "My colab fork: [styler00dollar/Colab-DeepMosaics](https://github.com/styler00dollar/Colab-DeepMosaics)\n",
        "\n",
        "This colab does work with a video by default, but it can also work with pictures."
      ]
    },
    {
      "cell_type": "code",
      "metadata": {
        "id": "T5mhzYhdow_Q",
        "colab_type": "code",
        "colab": {}
      },
      "source": [
        "# Check your GPU\n",
        "!nvidia-smi"
      ],
      "execution_count": null,
      "outputs": []
    },
    {
      "cell_type": "code",
      "metadata": {
        "id": "oeEj2FZoncOt",
        "colab_type": "code",
        "cellView": "form",
        "colab": {}
      },
      "source": [
        "#@markdown # Download DeepMosaics and models\n",
        "!git clone https://github.com/styler00dollar/Colab-DeepMosaics\n",
        "!pip install gdown\n",
        "%cd /content/Colab-DeepMosaics/pretrained_models\n",
        "!gdown --id 1A2F_2EjT6opJvOP_RxTEnskc90zxuJXR #clean_face_HD.pth\n",
        "!gdown --id 1vWPSBj3UFa0NOMXUtAd1wHs5cFIdhT6N #mosaic_position.pth\n",
        "!gdown --id 1VbnA0t4thtNV88yBFcWM5pAMZK-0vhPl #clean_youknow_video_HD.pth"
      ],
      "execution_count": null,
      "outputs": []
    },
    {
      "cell_type": "code",
      "metadata": {
        "id": "PSJnfMuWo0Qf",
        "colab_type": "code",
        "cellView": "form",
        "colab": {}
      },
      "source": [
        "#@markdown # Connect Google Drive and copy video. You can change the input path if you want.\n",
        "# Connect Google Drive, if you want to use Google Drive\n",
        "import os\n",
        "from google.colab import drive\n",
        "drive.mount('/content/drive')\n",
        "print('Google Drive connected.')\n",
        "\n",
        "input_path = \"/content/drive/My Drive/input.mkv\" #@param{type:\"string\"}\n",
        "file_extention = os.path.splitext(input_path)[1]\n",
        "\n",
        "# copy video to drive\n",
        "!cp '{input_path}' '/content/input{file_extention}'"
      ],
      "execution_count": null,
      "outputs": []
    },
    {
      "cell_type": "code",
      "metadata": {
        "id": "YgA9zKDm4e-5",
        "colab_type": "code",
        "cellView": "form",
        "colab": {}
      },
      "source": [
        "#@markdown # Apply clean_youknow_video_HD.pth and copy result back to Google Drive\n",
        "%cd /content/Colab-DeepMosaics/\n",
        "!python3 deepmosaic.py --media_path /content/input.mkv --model_path '/content/Colab-DeepMosaics/pretrained_models/clean_youknow_video_HD.pth' --use_gpu 1\n",
        "#@markdown # Output file is MP4 by default, but you can change the path\n",
        "output_path = \"/content/drive/My Drive/output.mp4\" #@param{type:\"string\"}\n",
        "!cp /content/Colab-DeepMosaics/result/input_clean.mp4 '{output_path}'"
      ],
      "execution_count": null,
      "outputs": []
    },
    {
      "cell_type": "code",
      "metadata": {
        "id": "fEA_y8egs_XB",
        "colab_type": "code",
        "cellView": "form",
        "colab": {}
      },
      "source": [
        "#@markdown # Apply clean_face_HD.pth and copy result back to Google Drive\n",
        "%cd /content/Colab-DeepMosaics/\n",
        "!python3 deepmosaic.py --media_path /content/input.mkv --model_path '/content/Colab-DeepMosaics/pretrained_models/clean_face_HD.pth' --use_gpu 1\n",
        "#@markdown # Output file is MP4 by default, but you can change the path\n",
        "output_path = \"/content/drive/My Drive/output.mp4\" #@param{type:\"string\"}\n",
        "!cp /content/Colab-DeepMosaics/result/input_clean.mp4 '{output_path}'"
      ],
      "execution_count": null,
      "outputs": []
    }
  ]
}